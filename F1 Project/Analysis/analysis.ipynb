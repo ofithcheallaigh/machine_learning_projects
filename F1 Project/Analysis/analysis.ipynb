{
 "cells": [
  {
   "attachments": {},
   "cell_type": "markdown",
   "metadata": {},
   "source": [
    "Notes:\n",
    "https://github.com/anand-lab-172\n",
    "https://www.kaggle.com/datasets/rohanrao/formula-1-world-championship-1950-2020 "
   ]
  },
  {
   "cell_type": "code",
   "execution_count": 2,
   "metadata": {},
   "outputs": [],
   "source": [
    "import pandas as pd\n",
    "import matplotlib.pyplot as plt\n",
    "import seaborn as sns"
   ]
  },
  {
   "cell_type": "code",
   "execution_count": 8,
   "metadata": {},
   "outputs": [],
   "source": [
    "df_pitstop = pd.read_csv('D:\\\\ML_Projects\\\\F1 Project\\\\Data\\\\pit_stops.csv')\n",
    "df_races = pd.read_csv('D:\\\\ML_Projects\\\\F1 Project\\\\Data\\\\races.csv')\n",
    "df_drivers = pd.read_csv('D:\\\\ML_Projects\\F1 Project\\\\Data\\\\drivers.csv')\n",
    "df_results = pd.read_csv('D:\\\\ML_Projects\\\\F1 Project\\\\Data\\\\results.csv')\n",
    "df_laptimes = pd.read_csv('D:\\\\ML_Projects\\\\F1 Project\\\\Data\\\\lap_times.csv')"
   ]
  }
 ],
 "metadata": {
  "kernelspec": {
   "display_name": "Python 3",
   "language": "python",
   "name": "python3"
  },
  "language_info": {
   "codemirror_mode": {
    "name": "ipython",
    "version": 3
   },
   "file_extension": ".py",
   "mimetype": "text/x-python",
   "name": "python",
   "nbconvert_exporter": "python",
   "pygments_lexer": "ipython3",
   "version": "3.10.8"
  },
  "orig_nbformat": 4
 },
 "nbformat": 4,
 "nbformat_minor": 2
}
