{
 "cells": [
  {
   "cell_type": "code",
   "execution_count": 21,
   "id": "b7b8fab1",
   "metadata": {},
   "outputs": [],
   "source": [
    "import spotipy\n",
    "from spotipy.oauth2 import SpotifyClientCredentials\n",
    "from spotipy.oauth2 import SpotifyOAuth\n",
    "# import config"
   ]
  },
  {
   "cell_type": "code",
   "execution_count": 22,
   "id": "c6d38d94",
   "metadata": {},
   "outputs": [],
   "source": [
    "import config"
   ]
  },
  {
   "cell_type": "code",
   "execution_count": 23,
   "id": "3bf84605",
   "metadata": {},
   "outputs": [],
   "source": [
    "scope = \"user-read-recently-played\"\n",
    "client_credentials_manager = SpotifyClientCredentials(client_id=config.client_id, \n",
    "                                                      client_secret=config.client_secret)\n",
    "sp = spotipy.Spotify(client_credentials_manager=client_credentials_manager)"
   ]
  },
  {
   "cell_type": "code",
   "execution_count": 34,
   "id": "47c3917e",
   "metadata": {},
   "outputs": [],
   "source": [
    "miles_uri = 'https://open.spotify.com/artist/0kbYTNQb4Pb1rPbbaF0pT4'\n",
    "\n",
    "# client_credentials_manager = SpotifyClientCredentials()\n",
    "# sp = spotipy.Spotify(client_credentials_manager=client_credentials_manager)\n",
    "\n",
    "results = sp.artist_albums(miles_uri, album_type='album')\n",
    "albums = results['items']\n",
    "while results['next']:\n",
    "    results = sp.next(results)\n",
    "    albums.extend(results['items'])\n",
    "\n",
    "# for album in albums:\n",
    "    # print((album['name']))"
   ]
  },
  {
   "cell_type": "code",
   "execution_count": 28,
   "id": "44c2ff2c",
   "metadata": {},
   "outputs": [],
   "source": [
    "import pandas as pd"
   ]
  },
  {
   "cell_type": "code",
   "execution_count": 32,
   "id": "c0cb75c0",
   "metadata": {},
   "outputs": [],
   "source": [
    "results_df = pd.DataFrame(results)\n",
    "results_df.to_json('test.json')"
   ]
  },
  {
   "cell_type": "code",
   "execution_count": null,
   "id": "4a8c7b13",
   "metadata": {},
   "outputs": [],
   "source": []
  }
 ],
 "metadata": {
  "kernelspec": {
   "display_name": "Python 3 (ipykernel)",
   "language": "python",
   "name": "python3"
  },
  "language_info": {
   "codemirror_mode": {
    "name": "ipython",
    "version": 3
   },
   "file_extension": ".py",
   "mimetype": "text/x-python",
   "name": "python",
   "nbconvert_exporter": "python",
   "pygments_lexer": "ipython3",
   "version": "3.10.1"
  }
 },
 "nbformat": 4,
 "nbformat_minor": 5
}
